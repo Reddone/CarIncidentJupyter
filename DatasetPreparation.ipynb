{
 "cells": [
  {
   "cell_type": "code",
   "execution_count": 1,
   "metadata": {
    "collapsed": false
   },
   "outputs": [
    {
     "data": {
      "text/html": [
       "\n",
       "<style>\n",
       ".output_png {\n",
       "    display: table-cell;\n",
       "    text-align: center;\n",
       "    vertical-align: middle;\n",
       "}\n",
       "</style>\n"
      ],
      "text/plain": [
       "<IPython.core.display.HTML object>"
      ]
     },
     "execution_count": 1,
     "metadata": {},
     "output_type": "execute_result"
    }
   ],
   "source": [
    "# Change HTML style\n",
    "from IPython.core.display import HTML\n",
    "HTML(\"\"\"\n",
    "<style>\n",
    ".output_png {\n",
    "    display: table-cell;\n",
    "    text-align: center;\n",
    "    vertical-align: middle;\n",
    "}\n",
    "</style>\n",
    "\"\"\")"
   ]
  },
  {
   "cell_type": "code",
   "execution_count": 2,
   "metadata": {
    "collapsed": true
   },
   "outputs": [],
   "source": [
    "# Imports and settings\n",
    "import warnings\n",
    "warnings.filterwarnings('ignore')\n",
    "import utils\n",
    "import os\n",
    "import pandas as pd\n",
    "pd.options.display.max_columns = 100\n",
    "pd.options.display.max_rows = 100"
   ]
  },
  {
   "cell_type": "markdown",
   "metadata": {},
   "source": [
    "Sul sito http://dati.comune.roma.it/, nella sezione incidenti stradali, abbiamo scaricato due file, relativi agli incidenti nel primo e secondo semestre dell'anno 2014. I dati sono per lo più di tipo categorico, con poche colonne di tipo numerico. Di conseguenza, si è scelto di lavorare con dati totalmente categorici, creando delle categorie dove ci fossero dei valori numerici. Per iniziare, fondiamo i due dataset per avere una tabella che rappresenti l'intero anno. L'obiettivo è quello di predire il tipo di lesione causato da un incidente stradale, a scopo puramente dimostrativo. Tuttavia, si possono pensare a molteplici applicazioni: capire cosa separa gli incidenti gravi da quelli non, capire che tipo di incidenti potrebbero verificarsi sotto certe condizioni, ecc."
   ]
  },
  {
   "cell_type": "code",
   "execution_count": 3,
   "metadata": {
    "collapsed": false
   },
   "outputs": [],
   "source": [
    "# Load dataset\n",
    "sem_path = r\"0_Sem_2014\"\n",
    "sem1_path = r\"1_Sem_2014.csv\"\n",
    "sem2_path = r\"2_Sem_2014.csv\"\n",
    "\n",
    "if not os.path.isfile(sem_path):\n",
    "    utils.join_dataframes(sem_path, sem1_path, sem2_path)\n",
    "dataset = pd.read_pickle(sem_path)"
   ]
  },
  {
   "cell_type": "code",
   "execution_count": 4,
   "metadata": {
    "collapsed": false
   },
   "outputs": [
    {
     "data": {
      "text/html": [
       "<div>\n",
       "<table border=\"1\" class=\"dataframe\">\n",
       "  <thead>\n",
       "    <tr style=\"text-align: right;\">\n",
       "      <th></th>\n",
       "      <th>IDProtocollo</th>\n",
       "      <th>Gruppo</th>\n",
       "      <th>DataOraIncidente</th>\n",
       "      <th>Localizzazione1</th>\n",
       "      <th>STRADA1</th>\n",
       "      <th>Localizzazione2</th>\n",
       "      <th>STRADA2</th>\n",
       "      <th>Strada02</th>\n",
       "      <th>Chilometrica</th>\n",
       "      <th>DaSpecificare</th>\n",
       "      <th>NaturaIncidente</th>\n",
       "      <th>ParticolaritaStrade</th>\n",
       "      <th>TipoStrada</th>\n",
       "      <th>FondoStradale</th>\n",
       "      <th>Pavimentazione</th>\n",
       "      <th>Segnaletica</th>\n",
       "      <th>CondizioneAtmosferica</th>\n",
       "      <th>Traffico</th>\n",
       "      <th>Visibilità</th>\n",
       "      <th>Illuminazione</th>\n",
       "      <th>NUM_FERITI</th>\n",
       "      <th>NUM_RISERVATA</th>\n",
       "      <th>NUM_MORTI</th>\n",
       "      <th>NUM_ILLESI</th>\n",
       "      <th>LONGITUDINE</th>\n",
       "      <th>LATITUDINE</th>\n",
       "      <th>Confermato</th>\n",
       "      <th>Progressivo</th>\n",
       "      <th>TipoVeicolo</th>\n",
       "      <th>StatoVeicolo</th>\n",
       "      <th>Marca</th>\n",
       "      <th>Modello</th>\n",
       "      <th>TipoPersona</th>\n",
       "      <th>AnnoNascita</th>\n",
       "      <th>Sesso</th>\n",
       "      <th>TipoLesione</th>\n",
       "      <th>Deceduto</th>\n",
       "      <th>DecedutoDopo</th>\n",
       "      <th>CinturaCascoUtilizzato</th>\n",
       "      <th>Airbag</th>\n",
       "    </tr>\n",
       "  </thead>\n",
       "  <tbody>\n",
       "    <tr>\n",
       "      <th>count</th>\n",
       "      <td>70718</td>\n",
       "      <td>70718</td>\n",
       "      <td>70718</td>\n",
       "      <td>70718</td>\n",
       "      <td>70718</td>\n",
       "      <td>70718</td>\n",
       "      <td>27526</td>\n",
       "      <td>54373</td>\n",
       "      <td>26847</td>\n",
       "      <td>16345</td>\n",
       "      <td>70718</td>\n",
       "      <td>70718</td>\n",
       "      <td>70718</td>\n",
       "      <td>70718</td>\n",
       "      <td>70718</td>\n",
       "      <td>70718</td>\n",
       "      <td>70718</td>\n",
       "      <td>70696</td>\n",
       "      <td>70718</td>\n",
       "      <td>70718</td>\n",
       "      <td>70718</td>\n",
       "      <td>70718</td>\n",
       "      <td>70718</td>\n",
       "      <td>70718</td>\n",
       "      <td>67915</td>\n",
       "      <td>67915</td>\n",
       "      <td>70718</td>\n",
       "      <td>68533</td>\n",
       "      <td>68533</td>\n",
       "      <td>68533</td>\n",
       "      <td>68533</td>\n",
       "      <td>68533</td>\n",
       "      <td>70718</td>\n",
       "      <td>70717</td>\n",
       "      <td>70645</td>\n",
       "      <td>70718</td>\n",
       "      <td>70718</td>\n",
       "      <td>16038</td>\n",
       "      <td>62491</td>\n",
       "      <td>45596</td>\n",
       "    </tr>\n",
       "    <tr>\n",
       "      <th>unique</th>\n",
       "      <td>29053</td>\n",
       "      <td>21</td>\n",
       "      <td>22537</td>\n",
       "      <td>10</td>\n",
       "      <td>4395</td>\n",
       "      <td>5</td>\n",
       "      <td>4072</td>\n",
       "      <td>4080</td>\n",
       "      <td>2474</td>\n",
       "      <td>6587</td>\n",
       "      <td>22</td>\n",
       "      <td>20</td>\n",
       "      <td>5</td>\n",
       "      <td>10</td>\n",
       "      <td>10</td>\n",
       "      <td>5</td>\n",
       "      <td>8</td>\n",
       "      <td>3</td>\n",
       "      <td>3</td>\n",
       "      <td>4</td>\n",
       "      <td>12</td>\n",
       "      <td>4</td>\n",
       "      <td>4</td>\n",
       "      <td>13</td>\n",
       "      <td>15835</td>\n",
       "      <td>13325</td>\n",
       "      <td>2</td>\n",
       "      <td>9</td>\n",
       "      <td>41</td>\n",
       "      <td>3</td>\n",
       "      <td>332</td>\n",
       "      <td>2612</td>\n",
       "      <td>6</td>\n",
       "      <td>108</td>\n",
       "      <td>2</td>\n",
       "      <td>8</td>\n",
       "      <td>2</td>\n",
       "      <td>13</td>\n",
       "      <td>4</td>\n",
       "      <td>3</td>\n",
       "    </tr>\n",
       "    <tr>\n",
       "      <th>top</th>\n",
       "      <td>2197524,000000</td>\n",
       "      <td>1,000000</td>\n",
       "      <td>12/11/2014 06:30</td>\n",
       "      <td>Strada Urbana</td>\n",
       "      <td>VIA CRISTOFORO COLOMBO</td>\n",
       "      <td>all'intersezione con</td>\n",
       "      <td>VIALE PALMIRO TOGLIATTI</td>\n",
       "      <td>del civico n.</td>\n",
       "      <td>1</td>\n",
       "      <td>.</td>\n",
       "      <td>Scontro laterale fra veicoli in marcia</td>\n",
       "      <td>Rettilineo</td>\n",
       "      <td>Una carreggiata a doppio senso</td>\n",
       "      <td>Asciutto</td>\n",
       "      <td>Asfaltata</td>\n",
       "      <td>Verticale ed orizzontale</td>\n",
       "      <td>Sereno</td>\n",
       "      <td>Normale</td>\n",
       "      <td>Buona</td>\n",
       "      <td>Ore Diurne</td>\n",
       "      <td>,000000</td>\n",
       "      <td>,000000</td>\n",
       "      <td>,000000</td>\n",
       "      <td>2,000000</td>\n",
       "      <td>12,43204</td>\n",
       "      <td>41,7931</td>\n",
       "      <td>true</td>\n",
       "      <td>1,000000</td>\n",
       "      <td>Autovettura privata</td>\n",
       "      <td>In marcia / fermata / arresto</td>\n",
       "      <td>Fiat</td>\n",
       "      <td>Punto</td>\n",
       "      <td>Conducente</td>\n",
       "      <td>1973,000000</td>\n",
       "      <td>M</td>\n",
       "      <td>Illeso</td>\n",
       "      <td>false</td>\n",
       "      <td>NON DECEDUTO</td>\n",
       "      <td>Non accertato</td>\n",
       "      <td>Inesploso</td>\n",
       "    </tr>\n",
       "    <tr>\n",
       "      <th>freq</th>\n",
       "      <td>22</td>\n",
       "      <td>6596</td>\n",
       "      <td>22</td>\n",
       "      <td>64500</td>\n",
       "      <td>1692</td>\n",
       "      <td>20255</td>\n",
       "      <td>187</td>\n",
       "      <td>22525</td>\n",
       "      <td>355</td>\n",
       "      <td>86</td>\n",
       "      <td>17273</td>\n",
       "      <td>36680</td>\n",
       "      <td>33796</td>\n",
       "      <td>57434</td>\n",
       "      <td>67515</td>\n",
       "      <td>49803</td>\n",
       "      <td>48316</td>\n",
       "      <td>42628</td>\n",
       "      <td>58248</td>\n",
       "      <td>50563</td>\n",
       "      <td>39195</td>\n",
       "      <td>70149</td>\n",
       "      <td>70391</td>\n",
       "      <td>20557</td>\n",
       "      <td>250</td>\n",
       "      <td>401</td>\n",
       "      <td>70713</td>\n",
       "      <td>39001</td>\n",
       "      <td>51630</td>\n",
       "      <td>68323</td>\n",
       "      <td>11984</td>\n",
       "      <td>3194</td>\n",
       "      <td>50647</td>\n",
       "      <td>1580</td>\n",
       "      <td>45008</td>\n",
       "      <td>54574</td>\n",
       "      <td>70612</td>\n",
       "      <td>15994</td>\n",
       "      <td>53425</td>\n",
       "      <td>36110</td>\n",
       "    </tr>\n",
       "  </tbody>\n",
       "</table>\n",
       "</div>"
      ],
      "text/plain": [
       "          IDProtocollo    Gruppo  DataOraIncidente Localizzazione1  \\\n",
       "count            70718     70718             70718           70718   \n",
       "unique           29053        21             22537              10   \n",
       "top     2197524,000000  1,000000  12/11/2014 06:30   Strada Urbana   \n",
       "freq                22      6596                22           64500   \n",
       "\n",
       "                       STRADA1       Localizzazione2                  STRADA2  \\\n",
       "count                    70718                 70718                    27526   \n",
       "unique                    4395                     5                     4072   \n",
       "top     VIA CRISTOFORO COLOMBO  all'intersezione con  VIALE PALMIRO TOGLIATTI   \n",
       "freq                      1692                 20255                      187   \n",
       "\n",
       "             Strada02 Chilometrica DaSpecificare  \\\n",
       "count           54373        26847         16345   \n",
       "unique           4080         2474          6587   \n",
       "top     del civico n.            1             .   \n",
       "freq            22525          355            86   \n",
       "\n",
       "                               NaturaIncidente ParticolaritaStrade  \\\n",
       "count                                    70718               70718   \n",
       "unique                                      22                  20   \n",
       "top     Scontro laterale fra veicoli in marcia          Rettilineo   \n",
       "freq                                     17273               36680   \n",
       "\n",
       "                            TipoStrada FondoStradale Pavimentazione  \\\n",
       "count                            70718         70718          70718   \n",
       "unique                               5            10             10   \n",
       "top     Una carreggiata a doppio senso      Asciutto      Asfaltata   \n",
       "freq                             33796         57434          67515   \n",
       "\n",
       "                     Segnaletica CondizioneAtmosferica Traffico Visibilità  \\\n",
       "count                      70718                 70718    70696      70718   \n",
       "unique                         5                     8        3          3   \n",
       "top     Verticale ed orizzontale                Sereno  Normale      Buona   \n",
       "freq                       49803                 48316    42628      58248   \n",
       "\n",
       "       Illuminazione NUM_FERITI NUM_RISERVATA NUM_MORTI NUM_ILLESI  \\\n",
       "count          70718      70718         70718     70718      70718   \n",
       "unique             4         12             4         4         13   \n",
       "top       Ore Diurne    ,000000       ,000000   ,000000   2,000000   \n",
       "freq           50563      39195         70149     70391      20557   \n",
       "\n",
       "       LONGITUDINE LATITUDINE Confermato Progressivo          TipoVeicolo  \\\n",
       "count        67915      67915      70718       68533                68533   \n",
       "unique       15835      13325          2           9                   41   \n",
       "top       12,43204    41,7931       true    1,000000  Autovettura privata   \n",
       "freq           250        401      70713       39001                51630   \n",
       "\n",
       "                         StatoVeicolo  Marca Modello TipoPersona  AnnoNascita  \\\n",
       "count                           68533  68533   68533       70718        70717   \n",
       "unique                              3    332    2612           6          108   \n",
       "top     In marcia / fermata / arresto   Fiat   Punto  Conducente  1973,000000   \n",
       "freq                            68323  11984    3194       50647         1580   \n",
       "\n",
       "        Sesso TipoLesione Deceduto  DecedutoDopo CinturaCascoUtilizzato  \\\n",
       "count   70645       70718    70718         16038                  62491   \n",
       "unique      2           8        2            13                      4   \n",
       "top         M      Illeso    false  NON DECEDUTO          Non accertato   \n",
       "freq    45008       54574    70612         15994                  53425   \n",
       "\n",
       "           Airbag  \n",
       "count       45596  \n",
       "unique          3  \n",
       "top     Inesploso  \n",
       "freq        36110  "
      ]
     },
     "execution_count": 4,
     "metadata": {},
     "output_type": "execute_result"
    }
   ],
   "source": [
    "dataset.describe()"
   ]
  },
  {
   "cell_type": "code",
   "execution_count": 5,
   "metadata": {
    "collapsed": false
   },
   "outputs": [
    {
     "data": {
      "text/plain": [
       "(70718, 40)"
      ]
     },
     "execution_count": 5,
     "metadata": {},
     "output_type": "execute_result"
    }
   ],
   "source": [
    "dataset.shape"
   ]
  },
  {
   "cell_type": "markdown",
   "metadata": {},
   "source": [
    "Come possiamo vedere, i dati sono formattati male e ci sono molti valori mancanti. Ad esempio, i campi a valore numerico sono tuti con la virgola; alcuni campi hanno molti valori mancanti, come il campo airbag o i campi relativi alle strade. Il campo \"DecedutoDopo\" ha pochi valori solo perchè funge da ausilio al campo \"Deceduto\". I campi \"Progressivo\", \"TipoVeicolo\", \"StatoVeicolo\", \"Marca\" e \"Modello\" hanno dei campi mancanti quando il record fa riferimento ad un pedone. I campi che presentano veramente dei valori mancanti sono \"Sesso\", \"AnnoNascita\" e \"Traffico\", per cui provvederemo a gestirli in modo opportuno.\n",
    "Quello che faremo ora, è formattare le colonne in modo opportuno, rimuovere le colonne che non ci servono, e fixare la colonna \"AnnoNascita\". Infatti, da una prima ispezione visiva, risulta che alcuni record hanno come anno di nascita date superiori al 2014, il che è un assurdo. Per cui, rimuoveremo tali record dal dataset, rimuovendo anche i record corrispondenti allo stesso incidente, non potendoci fidare del modo in cui i dati sono stati inseriti."
   ]
  },
  {
   "cell_type": "code",
   "execution_count": 6,
   "metadata": {
    "collapsed": false
   },
   "outputs": [],
   "source": [
    "# Assign correct values to columns\n",
    "dataset = utils.assign_columns(dataset)\n",
    "# Remove columns we don't need\n",
    "dataset = utils.remove_columns(dataset)\n",
    "# Fix broken values\n",
    "dataset = utils.fix_columns(dataset)"
   ]
  },
  {
   "cell_type": "code",
   "execution_count": 7,
   "metadata": {
    "collapsed": false
   },
   "outputs": [
    {
     "data": {
      "text/html": [
       "<div>\n",
       "<table border=\"1\" class=\"dataframe\">\n",
       "  <thead>\n",
       "    <tr style=\"text-align: right;\">\n",
       "      <th></th>\n",
       "      <th>IDProtocollo</th>\n",
       "      <th>DataOraIncidente</th>\n",
       "      <th>NaturaIncidente</th>\n",
       "      <th>ParticolaritaStrade</th>\n",
       "      <th>TipoStrada</th>\n",
       "      <th>FondoStradale</th>\n",
       "      <th>Pavimentazione</th>\n",
       "      <th>Segnaletica</th>\n",
       "      <th>CondizioneAtmosferica</th>\n",
       "      <th>Traffico</th>\n",
       "      <th>Visibilità</th>\n",
       "      <th>Illuminazione</th>\n",
       "      <th>NUM_FERITI</th>\n",
       "      <th>NUM_RISERVATA</th>\n",
       "      <th>NUM_MORTI</th>\n",
       "      <th>NUM_ILLESI</th>\n",
       "      <th>Progressivo</th>\n",
       "      <th>TipoVeicolo</th>\n",
       "      <th>TipoPersona</th>\n",
       "      <th>AnnoNascita</th>\n",
       "      <th>Sesso</th>\n",
       "      <th>TipoLesione</th>\n",
       "      <th>Deceduto</th>\n",
       "      <th>DecedutoDopo</th>\n",
       "    </tr>\n",
       "  </thead>\n",
       "  <tbody>\n",
       "    <tr>\n",
       "      <th>count</th>\n",
       "      <td>70074</td>\n",
       "      <td>70074</td>\n",
       "      <td>70074</td>\n",
       "      <td>70074</td>\n",
       "      <td>70074</td>\n",
       "      <td>70074</td>\n",
       "      <td>70074</td>\n",
       "      <td>70074</td>\n",
       "      <td>70074</td>\n",
       "      <td>70052</td>\n",
       "      <td>70074</td>\n",
       "      <td>70074</td>\n",
       "      <td>70074</td>\n",
       "      <td>70074</td>\n",
       "      <td>70074</td>\n",
       "      <td>70074</td>\n",
       "      <td>67910</td>\n",
       "      <td>67910</td>\n",
       "      <td>70074</td>\n",
       "      <td>70074</td>\n",
       "      <td>70013</td>\n",
       "      <td>70074</td>\n",
       "      <td>70074</td>\n",
       "      <td>15904</td>\n",
       "    </tr>\n",
       "    <tr>\n",
       "      <th>unique</th>\n",
       "      <td>28891</td>\n",
       "      <td>22449</td>\n",
       "      <td>22</td>\n",
       "      <td>20</td>\n",
       "      <td>5</td>\n",
       "      <td>10</td>\n",
       "      <td>10</td>\n",
       "      <td>5</td>\n",
       "      <td>8</td>\n",
       "      <td>3</td>\n",
       "      <td>3</td>\n",
       "      <td>4</td>\n",
       "      <td>12</td>\n",
       "      <td>4</td>\n",
       "      <td>4</td>\n",
       "      <td>13</td>\n",
       "      <td>8</td>\n",
       "      <td>41</td>\n",
       "      <td>4</td>\n",
       "      <td>99</td>\n",
       "      <td>2</td>\n",
       "      <td>8</td>\n",
       "      <td>2</td>\n",
       "      <td>13</td>\n",
       "    </tr>\n",
       "    <tr>\n",
       "      <th>top</th>\n",
       "      <td>2197524</td>\n",
       "      <td>17/07/2014 18:00</td>\n",
       "      <td>Scontro laterale fra veicoli in marcia</td>\n",
       "      <td>Rettilineo</td>\n",
       "      <td>Una carreggiata a doppio senso</td>\n",
       "      <td>Asciutto</td>\n",
       "      <td>Asfaltata</td>\n",
       "      <td>Verticale ed orizzontale</td>\n",
       "      <td>Sereno</td>\n",
       "      <td>Normale</td>\n",
       "      <td>Buona</td>\n",
       "      <td>Ore Diurne</td>\n",
       "      <td>0</td>\n",
       "      <td>0</td>\n",
       "      <td>0</td>\n",
       "      <td>2</td>\n",
       "      <td>1</td>\n",
       "      <td>Autovettura privata</td>\n",
       "      <td>Conducente</td>\n",
       "      <td>1973</td>\n",
       "      <td>M</td>\n",
       "      <td>Illeso</td>\n",
       "      <td>false</td>\n",
       "      <td>NON DECEDUTO</td>\n",
       "    </tr>\n",
       "    <tr>\n",
       "      <th>freq</th>\n",
       "      <td>22</td>\n",
       "      <td>22</td>\n",
       "      <td>17178</td>\n",
       "      <td>36362</td>\n",
       "      <td>33481</td>\n",
       "      <td>56912</td>\n",
       "      <td>66911</td>\n",
       "      <td>49314</td>\n",
       "      <td>47876</td>\n",
       "      <td>42246</td>\n",
       "      <td>57757</td>\n",
       "      <td>50130</td>\n",
       "      <td>38843</td>\n",
       "      <td>69512</td>\n",
       "      <td>69751</td>\n",
       "      <td>20463</td>\n",
       "      <td>38664</td>\n",
       "      <td>51144</td>\n",
       "      <td>50353</td>\n",
       "      <td>1570</td>\n",
       "      <td>44644</td>\n",
       "      <td>54066</td>\n",
       "      <td>69970</td>\n",
       "      <td>15860</td>\n",
       "    </tr>\n",
       "  </tbody>\n",
       "</table>\n",
       "</div>"
      ],
      "text/plain": [
       "       IDProtocollo  DataOraIncidente                         NaturaIncidente  \\\n",
       "count         70074             70074                                   70074   \n",
       "unique        28891             22449                                      22   \n",
       "top         2197524  17/07/2014 18:00  Scontro laterale fra veicoli in marcia   \n",
       "freq             22                22                                   17178   \n",
       "\n",
       "       ParticolaritaStrade                      TipoStrada FondoStradale  \\\n",
       "count                70074                           70074         70074   \n",
       "unique                  20                               5            10   \n",
       "top             Rettilineo  Una carreggiata a doppio senso      Asciutto   \n",
       "freq                 36362                           33481         56912   \n",
       "\n",
       "       Pavimentazione               Segnaletica CondizioneAtmosferica  \\\n",
       "count           70074                     70074                 70074   \n",
       "unique             10                         5                     8   \n",
       "top         Asfaltata  Verticale ed orizzontale                Sereno   \n",
       "freq            66911                     49314                 47876   \n",
       "\n",
       "       Traffico Visibilità Illuminazione NUM_FERITI NUM_RISERVATA NUM_MORTI  \\\n",
       "count     70052      70074         70074      70074         70074     70074   \n",
       "unique        3          3             4         12             4         4   \n",
       "top     Normale      Buona    Ore Diurne          0             0         0   \n",
       "freq      42246      57757         50130      38843         69512     69751   \n",
       "\n",
       "       NUM_ILLESI Progressivo          TipoVeicolo TipoPersona AnnoNascita  \\\n",
       "count       70074       67910                67910       70074       70074   \n",
       "unique         13           8                   41           4          99   \n",
       "top             2           1  Autovettura privata  Conducente        1973   \n",
       "freq        20463       38664                51144       50353        1570   \n",
       "\n",
       "        Sesso TipoLesione Deceduto  DecedutoDopo  \n",
       "count   70013       70074    70074         15904  \n",
       "unique      2           8        2            13  \n",
       "top         M      Illeso    false  NON DECEDUTO  \n",
       "freq    44644       54066    69970         15860  "
      ]
     },
     "execution_count": 7,
     "metadata": {},
     "output_type": "execute_result"
    }
   ],
   "source": [
    "dataset.describe()"
   ]
  },
  {
   "cell_type": "code",
   "execution_count": 8,
   "metadata": {
    "collapsed": false
   },
   "outputs": [
    {
     "data": {
      "text/plain": [
       "(70074, 24)"
      ]
     },
     "execution_count": 8,
     "metadata": {},
     "output_type": "execute_result"
    }
   ],
   "source": [
    "dataset.shape"
   ]
  },
  {
   "cell_type": "markdown",
   "metadata": {},
   "source": [
    "La colonna \"DataOraIncidente\" contiene tante informazioni, che possiamo sfruttare per avere una descrizione migliore dei dati, più ricca di informazione. Ad esempio, possiamo creare nuove colonne per il giorno, il mese e l'orario in cui l'incidente è avvenuto. Ancora meglio, possiamo creare nuove categorie; in questo caso, ci siamo concentrati solamente sulla fascia oraria (nel codice vengono anche trattati altri campi), e abbiamo creato 6 categorie."
   ]
  },
  {
   "cell_type": "code",
   "execution_count": 9,
   "metadata": {
    "collapsed": false
   },
   "outputs": [],
   "source": [
    "# Create new features using DataOraIncidente column\n",
    "dataset = utils.expand_DataOraIncidente(dataset)"
   ]
  },
  {
   "cell_type": "markdown",
   "metadata": {},
   "source": [
    "Un'altra informazione che possiamo estrarre è la dimensione dell'incidente. Per calcolarla, abbiamo due modi: il primo è quello di utilizzare il campo \"IDProtocollo\", che è lo stesso per tutti i veicoli e pedoni facenti parte dello stesso incidente, mentre il secondo è quello di utilizzare le colonne relative al numero di feriti, illesi, deceduti e persone in prognosi riservata. Il secondo modo va chiaramente contro lo scopo dell'analisi, perchè il nostro obiettivo è predire il tipo di lesione, ma essendo più banale del primo da scrivere, abbiamo usato quello. Tuttavia, essendoci un modo \"lecito\" di ottenere la dimensione dell'incidente, possiamo ignorare questo aspetto."
   ]
  },
  {
   "cell_type": "code",
   "execution_count": 10,
   "metadata": {
    "collapsed": true
   },
   "outputs": [],
   "source": [
    "# Create new features using NUM columns\n",
    "dataset = utils.expand_NUM(dataset)"
   ]
  },
  {
   "cell_type": "markdown",
   "metadata": {},
   "source": [
    "Utilizziamo ora la colonna \"DecedutoDopo\" per modificare il campo \"TipoLesione\": in particolare, consideriamo come decedute anche le persone morte non sul posto, ovvero in ospedale. Questa ci sembra una considerazione adatta, in quanto è più mirata a valutare la quantità di danni prodotta da un incidente piuttosto che condizioni fortuite che hanno permesso alla persona di non morire sul colpo, nonostante l'incidente fosse effettivamente brutto."
   ]
  },
  {
   "cell_type": "code",
   "execution_count": 11,
   "metadata": {
    "collapsed": true
   },
   "outputs": [],
   "source": [
    "# Create new features using DecedutoDopo column\n",
    "dataset = utils.expand_DecedutoDopo(dataset)"
   ]
  },
  {
   "cell_type": "markdown",
   "metadata": {},
   "source": [
    "La colonna \"NaturaIncidente\" ha 22 categorie, molte delle quali sono ridondanti o addirittura contengono pochi record per la categoria. Provvediamo perciò a mapparle in 8 categorie."
   ]
  },
  {
   "cell_type": "code",
   "execution_count": 12,
   "metadata": {
    "collapsed": false
   },
   "outputs": [],
   "source": [
    "# Adjust NaturaIncidente column\n",
    "dataset = utils.adjust_NaturaIncidente(dataset)\n",
    "#dataset['NaturaIncidente'].unique()\n",
    "#dataset['NaturaIncidente'].value_counts()"
   ]
  },
  {
   "cell_type": "markdown",
   "metadata": {},
   "source": [
    "La colonna \"ParticolaritaStrade\" ha 20 categorie, molte delle quali sono ridondanti o addirittura contengono pochi record per la categoria. Provvediamo perciò a mapparle in 7 categorie."
   ]
  },
  {
   "cell_type": "code",
   "execution_count": 13,
   "metadata": {
    "collapsed": false
   },
   "outputs": [],
   "source": [
    "# Adjust ParticolaritaStrade column\n",
    "dataset = utils.adjust_ParticolaritaStrade(dataset)\n",
    "#dataset['ParticolaritaStrade'].unique()\n",
    "#dataset['ParticolaritaStrade'].value_counts()"
   ]
  },
  {
   "cell_type": "markdown",
   "metadata": {},
   "source": [
    "La colonna \"FondoStradale\" ha 10 categorie, ma la maggior parte dei valori cadono solo in due di queste. Per questo motivo, abbiamo scelto di utilizzare solamente 3 categorie, accorpando tutte le altre."
   ]
  },
  {
   "cell_type": "code",
   "execution_count": 14,
   "metadata": {
    "collapsed": false
   },
   "outputs": [],
   "source": [
    "# Adjust FondoStradale column\n",
    "dataset = utils.adjust_FondoStradale(dataset)\n",
    "#dataset['FondoStradale'].unique()\n",
    "#dataset['FondoStradale'].value_counts()"
   ]
  },
  {
   "cell_type": "markdown",
   "metadata": {},
   "source": [
    "La colonna \"Pavimentazione\" ha 10 categorie, molte delle quali sono ridondanti o addirittura contengono pochi record per la categoria. Provvediamo perciò a mapparle in 3 categorie."
   ]
  },
  {
   "cell_type": "code",
   "execution_count": 15,
   "metadata": {
    "collapsed": false
   },
   "outputs": [],
   "source": [
    "# Adjust Pavimentazione column\n",
    "dataset = utils.adjust_Pavimentazione(dataset)\n",
    "#dataset['Pavimentazione'].unique()\n",
    "#dataset['Pavimentazione'].value_counts()"
   ]
  },
  {
   "cell_type": "markdown",
   "metadata": {},
   "source": [
    "La colonna \"CondizioneAtmosferica\" ha 8 categorie, molte delle quali sono ridondanti o addirittura contengono pochi record per la categoria. Provvediamo perciò a mapparle in 3 categorie."
   ]
  },
  {
   "cell_type": "code",
   "execution_count": 16,
   "metadata": {
    "collapsed": true
   },
   "outputs": [],
   "source": [
    "# Adjust CondizioneAtmosferica column\n",
    "dataset = utils.adjust_CondizioneAtmosferica(dataset)\n",
    "#dataset['CondizioneAtmosferica'].unique()\n",
    "#dataset['CondizioneAtmosferica'].value_counts()"
   ]
  },
  {
   "cell_type": "markdown",
   "metadata": {},
   "source": [
    "La colonna \"Traffico\" ha solo 3 categorie, ma presenta dei valori mancanti. Dato che la condizione di traffico regolare compare nella maggioranza dei record, scegliamo di rimpiazzare i valori mancanti utilizzando il valore più comune."
   ]
  },
  {
   "cell_type": "code",
   "execution_count": 17,
   "metadata": {
    "collapsed": false
   },
   "outputs": [],
   "source": [
    "# Adjust Traffico column\n",
    "dataset = utils.adjust_Traffico(dataset)\n",
    "#dataset['Traffico'].unique()\n",
    "#dataset['Traffico'].value_counts()"
   ]
  },
  {
   "cell_type": "markdown",
   "metadata": {},
   "source": [
    "La colonna \"TipoVeicolo\" ha 41 categorie, molte delle quali sono ridondanti o addirittura contengono pochi record per la categoria. Provvediamo perciò a mapparle in 14 categorie. \n",
    "Le categorie ottenute non sono poche, e potevano sicuramente essere ridotte, a patto di utilizzare una mappatura dei veicoli che tenesse conto del loro peso. E' molto probabile, infatti, che sia il peso del veicolo ad influire sul danno."
   ]
  },
  {
   "cell_type": "code",
   "execution_count": 18,
   "metadata": {
    "collapsed": false
   },
   "outputs": [],
   "source": [
    "# Adjust TipoVeicolo column\n",
    "dataset = utils.adjust_TipoVeicolo(dataset)\n",
    "#dataset['TipoVeicolo'].unique()\n",
    "#dataset['TipoVeicolo'].value_counts()"
   ]
  },
  {
   "cell_type": "markdown",
   "metadata": {},
   "source": [
    "La colonna \"TipoPersona\" ha 6 categorie, molte delle quali sono ridondanti. Provvediamo perciò a mapparle in 3 categorie."
   ]
  },
  {
   "cell_type": "code",
   "execution_count": 19,
   "metadata": {
    "collapsed": false
   },
   "outputs": [],
   "source": [
    "# Adjust TipoPersona column\n",
    "dataset = utils.adjust_TipoPersona(dataset)\n",
    "#dataset['TipoPersona'].unique()\n",
    "#dataset['TipoPersona'].value_counts()"
   ]
  },
  {
   "cell_type": "markdown",
   "metadata": {},
   "source": [
    "Il valore mancante della colonna \"AnnoNascita\" è stato eliminato nella fase iniziale di lavorazione del dataset. Procediamo ora a creare delle nuove categorie, che rappresentano le fascie di età. Alla fine di questa procedura, otteniamo 6 categorie."
   ]
  },
  {
   "cell_type": "code",
   "execution_count": 20,
   "metadata": {
    "collapsed": true
   },
   "outputs": [],
   "source": [
    "# Adjust AnnoNascita column\n",
    "dataset = utils.adjust_AnnoNascita(dataset)\n",
    "#dataset['AnnoNascita'].unique()\n",
    "#dataset['AnnoNascita'].value_counts()"
   ]
  },
  {
   "cell_type": "markdown",
   "metadata": {},
   "source": [
    "La colonna \"Sesso\" ha dei valori mancanti, che sono comunque pochi rispetto ai valori presenti. Per riempire i valori mancanti, si è scelto di campionare dalla distribuzione della colonna, il chè equivale a tirare una moneta dove le probabilità di testa e croce non sono 50/50 ma sono date dal numero di record già presenti."
   ]
  },
  {
   "cell_type": "code",
   "execution_count": 21,
   "metadata": {
    "collapsed": true
   },
   "outputs": [],
   "source": [
    "# Adjust Sesso column\n",
    "dataset = utils.adjust_Sesso(dataset)\n",
    "#dataset['Sesso'].unique()\n",
    "#dataset['Sesso'].value_counts()"
   ]
  },
  {
   "cell_type": "markdown",
   "metadata": {},
   "source": [
    "La colonna \"TipoLesione\" ha 8 categorie, molte delle quali sono ridondanti. Provvediamo perciò a mapparle in 4 categorie."
   ]
  },
  {
   "cell_type": "code",
   "execution_count": 22,
   "metadata": {
    "collapsed": false
   },
   "outputs": [
    {
     "data": {
      "text/plain": [
       "Illeso        54066\n",
       "Rimandato     14325\n",
       "Ricoverato     1535\n",
       "Deceduto        148\n",
       "Name: TipoLesione, dtype: int64"
      ]
     },
     "execution_count": 22,
     "metadata": {},
     "output_type": "execute_result"
    }
   ],
   "source": [
    "# Adjust TipoLesione column\n",
    "dataset = utils.adjust_TipoLesione(dataset)\n",
    "#dataset['TipoLesione'].unique()\n",
    "#dataset['TipoLesione'].value_counts()"
   ]
  },
  {
   "cell_type": "code",
   "execution_count": 24,
   "metadata": {
    "collapsed": false
   },
   "outputs": [
    {
     "data": {
      "text/html": [
       "<div>\n",
       "<table border=\"1\" class=\"dataframe\">\n",
       "  <thead>\n",
       "    <tr style=\"text-align: right;\">\n",
       "      <th></th>\n",
       "      <th>IDProtocollo</th>\n",
       "      <th>NaturaIncidente</th>\n",
       "      <th>ParticolaritaStrade</th>\n",
       "      <th>TipoStrada</th>\n",
       "      <th>FondoStradale</th>\n",
       "      <th>Pavimentazione</th>\n",
       "      <th>Segnaletica</th>\n",
       "      <th>CondizioneAtmosferica</th>\n",
       "      <th>Traffico</th>\n",
       "      <th>Visibilità</th>\n",
       "      <th>Illuminazione</th>\n",
       "      <th>Progressivo</th>\n",
       "      <th>TipoVeicolo</th>\n",
       "      <th>TipoPersona</th>\n",
       "      <th>Sesso</th>\n",
       "      <th>TipoLesione</th>\n",
       "      <th>FaseGiorno</th>\n",
       "      <th>DimensioneIncidente</th>\n",
       "      <th>FasciaEta</th>\n",
       "    </tr>\n",
       "  </thead>\n",
       "  <tbody>\n",
       "    <tr>\n",
       "      <th>count</th>\n",
       "      <td>70074</td>\n",
       "      <td>70074</td>\n",
       "      <td>70074</td>\n",
       "      <td>70074</td>\n",
       "      <td>70074</td>\n",
       "      <td>70074</td>\n",
       "      <td>70074</td>\n",
       "      <td>70074</td>\n",
       "      <td>70074</td>\n",
       "      <td>70074</td>\n",
       "      <td>70074</td>\n",
       "      <td>67910</td>\n",
       "      <td>70074</td>\n",
       "      <td>70074</td>\n",
       "      <td>70074</td>\n",
       "      <td>70074</td>\n",
       "      <td>70074</td>\n",
       "      <td>70074</td>\n",
       "      <td>70074</td>\n",
       "    </tr>\n",
       "    <tr>\n",
       "      <th>unique</th>\n",
       "      <td>28891</td>\n",
       "      <td>8</td>\n",
       "      <td>7</td>\n",
       "      <td>5</td>\n",
       "      <td>3</td>\n",
       "      <td>3</td>\n",
       "      <td>5</td>\n",
       "      <td>3</td>\n",
       "      <td>3</td>\n",
       "      <td>3</td>\n",
       "      <td>4</td>\n",
       "      <td>8</td>\n",
       "      <td>14</td>\n",
       "      <td>3</td>\n",
       "      <td>2</td>\n",
       "      <td>4</td>\n",
       "      <td>6</td>\n",
       "      <td>3</td>\n",
       "      <td>6</td>\n",
       "    </tr>\n",
       "    <tr>\n",
       "      <th>top</th>\n",
       "      <td>2197524</td>\n",
       "      <td>MarciaVsMarcia</td>\n",
       "      <td>Rettilineo</td>\n",
       "      <td>Una carreggiata a doppio senso</td>\n",
       "      <td>Asciutto</td>\n",
       "      <td>Regolare</td>\n",
       "      <td>Verticale ed orizzontale</td>\n",
       "      <td>Sereno</td>\n",
       "      <td>Normale</td>\n",
       "      <td>Buona</td>\n",
       "      <td>Ore Diurne</td>\n",
       "      <td>1</td>\n",
       "      <td>Autovettura</td>\n",
       "      <td>Conducente</td>\n",
       "      <td>M</td>\n",
       "      <td>Illeso</td>\n",
       "      <td>PomeriggioTardi</td>\n",
       "      <td>Piccolo</td>\n",
       "      <td>Adulto</td>\n",
       "    </tr>\n",
       "    <tr>\n",
       "      <th>freq</th>\n",
       "      <td>22</td>\n",
       "      <td>38664</td>\n",
       "      <td>36543</td>\n",
       "      <td>33481</td>\n",
       "      <td>56912</td>\n",
       "      <td>66915</td>\n",
       "      <td>49314</td>\n",
       "      <td>47909</td>\n",
       "      <td>42268</td>\n",
       "      <td>57757</td>\n",
       "      <td>50130</td>\n",
       "      <td>38664</td>\n",
       "      <td>53091</td>\n",
       "      <td>50353</td>\n",
       "      <td>44677</td>\n",
       "      <td>54066</td>\n",
       "      <td>19427</td>\n",
       "      <td>49315</td>\n",
       "      <td>28562</td>\n",
       "    </tr>\n",
       "  </tbody>\n",
       "</table>\n",
       "</div>"
      ],
      "text/plain": [
       "       IDProtocollo NaturaIncidente ParticolaritaStrade  \\\n",
       "count         70074           70074               70074   \n",
       "unique        28891               8                   7   \n",
       "top         2197524  MarciaVsMarcia          Rettilineo   \n",
       "freq             22           38664               36543   \n",
       "\n",
       "                            TipoStrada FondoStradale Pavimentazione  \\\n",
       "count                            70074         70074          70074   \n",
       "unique                               5             3              3   \n",
       "top     Una carreggiata a doppio senso      Asciutto       Regolare   \n",
       "freq                             33481         56912          66915   \n",
       "\n",
       "                     Segnaletica CondizioneAtmosferica Traffico Visibilità  \\\n",
       "count                      70074                 70074    70074      70074   \n",
       "unique                         5                     3        3          3   \n",
       "top     Verticale ed orizzontale                Sereno  Normale      Buona   \n",
       "freq                       49314                 47909    42268      57757   \n",
       "\n",
       "       Illuminazione Progressivo  TipoVeicolo TipoPersona  Sesso TipoLesione  \\\n",
       "count          70074       67910        70074       70074  70074       70074   \n",
       "unique             4           8           14           3      2           4   \n",
       "top       Ore Diurne           1  Autovettura  Conducente      M      Illeso   \n",
       "freq           50130       38664        53091       50353  44677       54066   \n",
       "\n",
       "             FaseGiorno DimensioneIncidente FasciaEta  \n",
       "count             70074               70074     70074  \n",
       "unique                6                   3         6  \n",
       "top     PomeriggioTardi             Piccolo    Adulto  \n",
       "freq              19427               49315     28562  "
      ]
     },
     "execution_count": 24,
     "metadata": {},
     "output_type": "execute_result"
    }
   ],
   "source": [
    "dataset.describe()"
   ]
  },
  {
   "cell_type": "code",
   "execution_count": 25,
   "metadata": {
    "collapsed": false
   },
   "outputs": [
    {
     "data": {
      "text/plain": [
       "(70074, 19)"
      ]
     },
     "execution_count": 25,
     "metadata": {},
     "output_type": "execute_result"
    }
   ],
   "source": [
    "dataset.shape"
   ]
  },
  {
   "cell_type": "markdown",
   "metadata": {},
   "source": [
    "Per concludere, serializziamo il dataset e salviamolo anche in formato csv. Siamo ora pronti a passare alla parte di machine learning, dove cercheremo di predire il tipo di lesione che viene riportato dalle persone coinvolte in un incidente, utilizzando appunto la colonna \"TipoLesione\"."
   ]
  },
  {
   "cell_type": "code",
   "execution_count": 26,
   "metadata": {
    "collapsed": true
   },
   "outputs": [],
   "source": [
    "save_path = r\"0_CarIncident_2014\"\n",
    "save_path_csv = r\"0_CarIncident_2014.csv\"\n",
    "dataset.to_pickle(save_path)\n",
    "dataset.to_csv(save_path_csv)"
   ]
  },
  {
   "cell_type": "code",
   "execution_count": null,
   "metadata": {
    "collapsed": true
   },
   "outputs": [],
   "source": []
  }
 ],
 "metadata": {
  "anaconda-cloud": {},
  "kernelspec": {
   "display_name": "Python [conda root]",
   "language": "python",
   "name": "conda-root-py"
  },
  "language_info": {
   "codemirror_mode": {
    "name": "ipython",
    "version": 3
   },
   "file_extension": ".py",
   "mimetype": "text/x-python",
   "name": "python",
   "nbconvert_exporter": "python",
   "pygments_lexer": "ipython3",
   "version": "3.5.2"
  }
 },
 "nbformat": 4,
 "nbformat_minor": 0
}
